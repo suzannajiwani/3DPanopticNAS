{
 "cells": [
  {
   "cell_type": "markdown",
   "metadata": {},
   "source": [
    "# nuScenes lidarseg and panoptic tutorial\n"
   ]
  },
  {
   "cell_type": "code",
   "execution_count": null,
   "metadata": {},
   "outputs": [],
   "source": []
  },
  {
   "cell_type": "markdown",
   "metadata": {},
   "source": [
    "## Setup\n",
    "To install the nuScenes-lidarseg and/or Panoptic nuScenes expansion, download the dataset from https://www.nuscenes.org/download. Unpack the compressed file(s) into `/data/sets/nuscenes` and your folder structure should end up looking like this:\n",
    "```\n",
    "└── nuscenes  \n",
    "    ├── Usual nuscenes folders (i.e. samples, sweep)\n",
    "    │\n",
    "    ├── lidarseg\n",
    "    │   └── v1.0-{mini, test, trainval} <- Contains the .bin files; a .bin file \n",
    "    │                                      contains the labels of the points in a \n",
    "    │                                      point cloud (note that v1.0-test does not \n",
    "    │                                      have any .bin files associated with it)\n",
    "    │\n",
    "    ├── panoptic\n",
    "    │   └── v1.0-{mini, test, trainval} <- Contains the *_panoptic.npz files; a .npz file \n",
    "    │                                      contains the panoptic labels of the points in a \n",
    "    │                                      point cloud (note that v1.0-test does not \n",
    "    │                                      have any .npz files associated with it) \n",
    "    └── v1.0-{mini, test, trainval}\n",
    "        ├── Usual files (e.g. attribute.json, calibrated_sensor.json etc.)\n",
    "        ├── lidarseg.json  <- contains the mapping of each .bin file to the token\n",
    "        ├── panoptic.json  <- contains the mapping of each .npz file to the token       \n",
    "        └── category.json  <- contains the categories of the labels (note that the \n",
    "                              category.json from nuScenes v1.0 is overwritten)\n",
    "```"
   ]
  },
  {
   "cell_type": "code",
   "execution_count": 1,
   "metadata": {},
   "outputs": [
    {
     "name": "stdout",
     "output_type": "stream",
     "text": [
      "======\n",
      "Loading NuScenes tables for version v1.0-trainval...\n",
      "Loading nuScenes-lidarseg...\n",
      "Loading nuScenes-panoptic...\n",
      "32 category,\n",
      "8 attribute,\n",
      "4 visibility,\n",
      "64386 instance,\n",
      "12 sensor,\n",
      "10200 calibrated_sensor,\n",
      "2631083 ego_pose,\n",
      "68 log,\n",
      "850 scene,\n",
      "34149 sample,\n",
      "2631083 sample_data,\n",
      "1166187 sample_annotation,\n",
      "4 map,\n",
      "34149 lidarseg,\n",
      "34149 panoptic,\n",
      "Done loading in 44.588 seconds.\n",
      "======\n",
      "Reverse indexing ...\n",
      "Done reverse indexing in 12.2 seconds.\n",
      "======\n"
     ]
    }
   ],
   "source": [
    "%matplotlib inline\n",
    "\n",
    "from nuscenes import NuScenes\n",
    "\n",
    "nusc = NuScenes(version='v1.0-trainval', dataroot='/nobackup/users/sjiwani/nuscenes-dataset', verbose=True)"
   ]
  },
  {
   "cell_type": "code",
   "execution_count": 2,
   "metadata": {},
   "outputs": [
    {
     "name": "stdout",
     "output_type": "stream",
     "text": [
      "Calculating semantic point stats for nuScenes-lidarseg...\n",
      " 19  vehicle.emergency.ambulance              nbr_points=       2,218\n",
      "  1  animal                                   nbr_points=       5,385\n",
      "  5  human.pedestrian.personal_mobility       nbr_points=       8,723\n",
      "  7  human.pedestrian.stroller                nbr_points=       8,809\n",
      "  6  human.pedestrian.police_officer          nbr_points=       9,159\n",
      "  3  human.pedestrian.child                   nbr_points=       9,655\n",
      "  8  human.pedestrian.wheelchair              nbr_points=      12,168\n",
      " 20  vehicle.emergency.police                 nbr_points=      59,590\n",
      " 10  movable_object.debris                    nbr_points=      66,861\n",
      "  4  human.pedestrian.construction_worker     nbr_points=     139,443\n",
      " 14  vehicle.bicycle                          nbr_points=     141,351\n",
      " 13  static_object.bicycle_rack               nbr_points=     163,126\n",
      " 15  vehicle.bus.bendy                        nbr_points=     357,463\n",
      " 21  vehicle.motorcycle                       nbr_points=     427,391\n",
      " 11  movable_object.pushable_pullable         nbr_points=     718,641\n",
      " 12  movable_object.trafficcone               nbr_points=     736,239\n",
      " 29  static.other                             nbr_points=     817,150\n",
      " 18  vehicle.construction                     nbr_points=   1,514,414\n",
      "  0  noise                                    nbr_points=   2,061,156\n",
      "  2  human.pedestrian.adult                   nbr_points=   2,156,470\n",
      " 16  vehicle.bus.rigid                        nbr_points=   4,247,297\n",
      " 22  vehicle.trailer                          nbr_points=   4,907,511\n",
      " 25  flat.other                               nbr_points=   8,559,216\n",
      "  9  movable_object.barrier                   nbr_points=   9,305,106\n",
      " 23  vehicle.truck                            nbr_points=  15,841,384\n",
      " 17  vehicle.car                              nbr_points=  38,104,219\n",
      " 26  flat.sidewalk                            nbr_points=  70,197,461\n",
      " 27  flat.terrain                             nbr_points=  70,289,730\n",
      " 30  static.vegetation                        nbr_points= 122,581,273\n",
      " 28  static.manmade                           nbr_points= 178,178,063\n",
      " 24  flat.driveable_surface                   nbr_points= 316,958,899\n",
      " 31  vehicle.ego                              nbr_points= 337,070,621\n",
      "Calculated stats for 34149 point clouds in 822.0 seconds, total 1185656192 points.\n",
      "=====\n"
     ]
    }
   ],
   "source": [
    "nusc.list_lidarseg_categories(sort_by='count')"
   ]
  },
  {
   "cell_type": "code",
   "execution_count": 3,
   "metadata": {},
   "outputs": [
    {
     "data": {
      "text/plain": [
       "{0: 'noise',\n",
       " 1: 'animal',\n",
       " 2: 'human.pedestrian.adult',\n",
       " 3: 'human.pedestrian.child',\n",
       " 4: 'human.pedestrian.construction_worker',\n",
       " 5: 'human.pedestrian.personal_mobility',\n",
       " 6: 'human.pedestrian.police_officer',\n",
       " 7: 'human.pedestrian.stroller',\n",
       " 8: 'human.pedestrian.wheelchair',\n",
       " 9: 'movable_object.barrier',\n",
       " 10: 'movable_object.debris',\n",
       " 11: 'movable_object.pushable_pullable',\n",
       " 12: 'movable_object.trafficcone',\n",
       " 13: 'static_object.bicycle_rack',\n",
       " 14: 'vehicle.bicycle',\n",
       " 15: 'vehicle.bus.bendy',\n",
       " 16: 'vehicle.bus.rigid',\n",
       " 17: 'vehicle.car',\n",
       " 18: 'vehicle.construction',\n",
       " 19: 'vehicle.emergency.ambulance',\n",
       " 20: 'vehicle.emergency.police',\n",
       " 21: 'vehicle.motorcycle',\n",
       " 22: 'vehicle.trailer',\n",
       " 23: 'vehicle.truck',\n",
       " 24: 'flat.driveable_surface',\n",
       " 25: 'flat.other',\n",
       " 26: 'flat.sidewalk',\n",
       " 27: 'flat.terrain',\n",
       " 28: 'static.manmade',\n",
       " 29: 'static.other',\n",
       " 30: 'static.vegetation',\n",
       " 31: 'vehicle.ego'}"
      ]
     },
     "execution_count": 3,
     "metadata": {},
     "output_type": "execute_result"
    }
   ],
   "source": [
    "nusc.lidarseg_idx2name_mapping"
   ]
  },
  {
   "cell_type": "code",
   "execution_count": 4,
   "metadata": {},
   "outputs": [
    {
     "data": {
      "text/plain": [
       "{'noise': 0,\n",
       " 'animal': 1,\n",
       " 'human.pedestrian.adult': 2,\n",
       " 'human.pedestrian.child': 3,\n",
       " 'human.pedestrian.construction_worker': 4,\n",
       " 'human.pedestrian.personal_mobility': 5,\n",
       " 'human.pedestrian.police_officer': 6,\n",
       " 'human.pedestrian.stroller': 7,\n",
       " 'human.pedestrian.wheelchair': 8,\n",
       " 'movable_object.barrier': 9,\n",
       " 'movable_object.debris': 10,\n",
       " 'movable_object.pushable_pullable': 11,\n",
       " 'movable_object.trafficcone': 12,\n",
       " 'static_object.bicycle_rack': 13,\n",
       " 'vehicle.bicycle': 14,\n",
       " 'vehicle.bus.bendy': 15,\n",
       " 'vehicle.bus.rigid': 16,\n",
       " 'vehicle.car': 17,\n",
       " 'vehicle.construction': 18,\n",
       " 'vehicle.emergency.ambulance': 19,\n",
       " 'vehicle.emergency.police': 20,\n",
       " 'vehicle.motorcycle': 21,\n",
       " 'vehicle.trailer': 22,\n",
       " 'vehicle.truck': 23,\n",
       " 'flat.driveable_surface': 24,\n",
       " 'flat.other': 25,\n",
       " 'flat.sidewalk': 26,\n",
       " 'flat.terrain': 27,\n",
       " 'static.manmade': 28,\n",
       " 'static.other': 29,\n",
       " 'static.vegetation': 30,\n",
       " 'vehicle.ego': 31}"
      ]
     },
     "execution_count": 4,
     "metadata": {},
     "output_type": "execute_result"
    }
   ],
   "source": [
    "nusc.lidarseg_name2idx_mapping"
   ]
  },
  {
   "cell_type": "code",
   "execution_count": 5,
   "metadata": {},
   "outputs": [
    {
     "name": "stdout",
     "output_type": "stream",
     "text": [
      "Calculating semantic point stats for nuScenes-panoptic...\n",
      " 19  vehicle.emergency.ambulance              nbr_points=           0\n",
      "  1  animal                                   nbr_points=       4,289\n",
      "  3  human.pedestrian.child                   nbr_points=       7,552\n",
      "  5  human.pedestrian.personal_mobility       nbr_points=       7,609\n",
      "  6  human.pedestrian.police_officer          nbr_points=       7,843\n",
      "  7  human.pedestrian.stroller                nbr_points=       7,897\n",
      "  8  human.pedestrian.wheelchair              nbr_points=      11,823\n",
      " 10  movable_object.debris                    nbr_points=      30,633\n",
      " 20  vehicle.emergency.police                 nbr_points=      57,898\n",
      "  4  human.pedestrian.construction_worker     nbr_points=     117,658\n",
      " 14  vehicle.bicycle                          nbr_points=     126,214\n",
      " 13  static_object.bicycle_rack               nbr_points=     129,550\n",
      " 15  vehicle.bus.bendy                        nbr_points=     347,207\n",
      " 21  vehicle.motorcycle                       nbr_points=     411,093\n",
      " 11  movable_object.pushable_pullable         nbr_points=     574,640\n",
      " 12  movable_object.trafficcone               nbr_points=     636,812\n",
      " 29  static.other                             nbr_points=     817,150\n",
      " 18  vehicle.construction                     nbr_points=   1,153,917\n",
      "  2  human.pedestrian.adult                   nbr_points=   1,996,398\n",
      " 16  vehicle.bus.rigid                        nbr_points=   4,004,421\n",
      " 22  vehicle.trailer                          nbr_points=   4,397,702\n",
      "  9  movable_object.barrier                   nbr_points=   7,805,289\n",
      " 25  flat.other                               nbr_points=   8,559,216\n",
      "  0  noise                                    nbr_points=   8,671,731\n",
      " 23  vehicle.truck                            nbr_points=  14,448,748\n",
      " 17  vehicle.car                              nbr_points=  36,046,855\n",
      " 26  flat.sidewalk                            nbr_points=  70,197,461\n",
      " 27  flat.terrain                             nbr_points=  70,289,730\n",
      " 30  static.vegetation                        nbr_points= 122,581,273\n",
      " 28  static.manmade                           nbr_points= 178,178,063\n",
      " 24  flat.driveable_surface                   nbr_points= 316,958,899\n",
      " 31  vehicle.ego                              nbr_points= 337,070,621\n",
      "Calculated stats for 34149 point clouds in 45.8 seconds, total 1185656192 points.\n",
      "=====\n"
     ]
    }
   ],
   "source": [
    "nusc.list_lidarseg_categories(sort_by='count', gt_from='panoptic')"
   ]
  },
  {
   "cell_type": "code",
   "execution_count": 6,
   "metadata": {},
   "outputs": [
    {
     "name": "stdout",
     "output_type": "stream",
     "text": [
      "Calculating instance stats for nuScenes-panoptic ...\n",
      "Per-frame number of instances: 27±18\n",
      "Per-category instance stats:\n",
      "vehicle.car: 26523 instances, each instance spans to 14±11 frames, with 99±337 points\n",
      "human.pedestrian.adult: 10520 instances, each instance spans to 17±11 frames, with 11±34 points\n",
      "movable_object.barrier: 8073 instances, each instance spans to 15±10 frames, with 63±173 points\n",
      "movable_object.trafficcone: 6358 instances, each instance spans to 11±9 frames, with 9±21 points\n",
      "vehicle.truck: 4033 instances, each instance spans to 18±12 frames, with 200±815 points\n",
      "movable_object.pushable_pullable: 1614 instances, each instance spans to 13±7 frames, with 28±59 points\n",
      "vehicle.trailer: 1065 instances, each instance spans to 19±12 frames, with 213±833 points\n",
      "vehicle.motorcycle: 714 instances, each instance spans to 14±10 frames, with 40±109 points\n",
      "vehicle.bicycle: 710 instances, each instance spans to 13±10 frames, with 13±32 points\n",
      "vehicle.construction: 609 instances, each instance spans to 20±13 frames, with 94±318 points\n",
      "vehicle.bus.rigid: 556 instances, each instance spans to 23±13 frames, with 309±1087 points\n",
      "human.pedestrian.construction_worker: 513 instances, each instance spans to 15±10 frames, with 16±40 points\n",
      "human.pedestrian.child: 124 instances, each instance spans to 12±9 frames, with 5±7 points\n",
      "static_object.bicycle_rack: 112 instances, each instance spans to 19±10 frames, with 61±182 points\n",
      "movable_object.debris: 100 instances, each instance spans to 14±9 frames, with 22±49 points\n",
      "vehicle.bus.bendy: 80 instances, each instance spans to 18±10 frames, with 237±777 points\n",
      "human.pedestrian.stroller: 61 instances, each instance spans to 13±9 frames, with 10±41 points\n",
      "animal: 52 instances, each instance spans to 12±8 frames, with 7±11 points\n",
      "human.pedestrian.police_officer: 24 instances, each instance spans to 18±10 frames, with 19±62 points\n",
      "vehicle.emergency.police: 24 instances, each instance spans to 21±10 frames, with 117±286 points\n",
      "human.pedestrian.personal_mobility: 22 instances, each instance spans to 16±15 frames, with 21±53 points\n",
      "human.pedestrian.wheelchair: 15 instances, each instance spans to 31±14 frames, with 25±57 points\n",
      "vehicle.emergency.ambulance: 0 instances, each instance spans to 0±0 frames, with 0±0 points\n",
      "\n",
      "Calculated stats for 34149 point clouds in 64.5 seconds, total 61902 instances, 909969 sample annotations.\n",
      "=====\n"
     ]
    }
   ],
   "source": [
    "nusc.list_panoptic_instances(sort_by='count')"
   ]
  },
  {
   "cell_type": "code",
   "execution_count": 7,
   "metadata": {},
   "outputs": [],
   "source": [
    "my_sample = nusc.sample[87]"
   ]
  },
  {
   "cell_type": "code",
   "execution_count": 8,
   "metadata": {},
   "outputs": [
    {
     "name": "stdout",
     "output_type": "stream",
     "text": [
      "===== Statistics for 49f8376cd6b34f07b20ed6d5b5b42acd =====\n",
      " 12  movable_object.trafficcone               n=           7\n",
      "  0  noise                                    n=          17\n",
      "  2  human.pedestrian.adult                   n=          57\n",
      " 25  flat.other                               n=         224\n",
      " 17  vehicle.car                              n=       1,116\n",
      " 26  flat.sidewalk                            n=       1,735\n",
      " 30  static.vegetation                        n=       1,755\n",
      " 27  flat.terrain                             n=       2,605\n",
      " 31  vehicle.ego                              n=       7,727\n",
      " 28  static.manmade                           n=       9,564\n",
      " 24  flat.driveable_surface                   n=       9,913\n",
      "===========================================================\n"
     ]
    }
   ],
   "source": [
    "nusc.get_sample_lidarseg_stats(my_sample['token'], sort_by='count')"
   ]
  },
  {
   "cell_type": "code",
   "execution_count": 9,
   "metadata": {},
   "outputs": [
    {
     "name": "stdout",
     "output_type": "stream",
     "text": [
      "===== Statistics for 49f8376cd6b34f07b20ed6d5b5b42acd =====\n",
      " 12  movable_object.trafficcone               n=           6\n",
      "  2  human.pedestrian.adult                   n=          50\n",
      "  0  noise                                    n=          61\n",
      " 25  flat.other                               n=         224\n",
      " 17  vehicle.car                              n=       1,080\n",
      " 26  flat.sidewalk                            n=       1,735\n",
      " 30  static.vegetation                        n=       1,755\n",
      " 27  flat.terrain                             n=       2,605\n",
      " 31  vehicle.ego                              n=       7,727\n",
      " 28  static.manmade                           n=       9,564\n",
      " 24  flat.driveable_surface                   n=       9,913\n",
      "===========================================================\n"
     ]
    }
   ],
   "source": [
    "nusc.get_sample_lidarseg_stats(my_sample['token'], sort_by='count', gt_from='panoptic')"
   ]
  },
  {
   "cell_type": "code",
   "execution_count": null,
   "metadata": {},
   "outputs": [],
   "source": []
  }
 ],
 "metadata": {
  "kernelspec": {
   "display_name": "Python [conda env:anaconda3-ml]",
   "language": "python",
   "name": "conda-env-anaconda3-ml-py"
  },
  "language_info": {
   "codemirror_mode": {
    "name": "ipython",
    "version": 3
   },
   "file_extension": ".py",
   "mimetype": "text/x-python",
   "name": "python",
   "nbconvert_exporter": "python",
   "pygments_lexer": "ipython3",
   "version": "3.8.12"
  }
 },
 "nbformat": 4,
 "nbformat_minor": 4
}
